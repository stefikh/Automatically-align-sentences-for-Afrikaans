{
 "cells": [
  {
   "cell_type": "markdown",
   "id": "81b50676",
   "metadata": {},
   "source": [
    "*Над чем можно поработать:*\n",
    "\n",
    "-автоматически подгонять тексты под формат (метаинформацию выделять метками)\n",
    "\n",
    "-из-за формата кавычек может пойти что-то не так (привести к единому стилю оригинал и перевод)"
   ]
  },
  {
   "cell_type": "markdown",
   "id": "409d6e7e",
   "metadata": {},
   "source": [
    "*Шаги на пробной одной главе:*\n",
    "\n",
    "установка библиотеки"
   ]
  },
  {
   "cell_type": "code",
   "execution_count": 3,
   "id": "c0ae3666",
   "metadata": {
    "scrolled": true
   },
   "outputs": [
    {
     "name": "stdout",
     "output_type": "stream",
     "text": [
      "Requirement already satisfied: lingtrain-aligner==0.8.7 in c:\\users\\пользователь\\appdata\\local\\programs\\python\\python39\\lib\\site-packages (0.8.7)\n"
     ]
    },
    {
     "name": "stderr",
     "output_type": "stream",
     "text": [
      "WARNING: You are using pip version 22.0.4; however, version 22.3.1 is available.\n",
      "You should consider upgrading via the 'C:\\Users\\пользователь\\AppData\\Local\\Programs\\Python\\Python39\\python.exe -m pip install --upgrade pip' command.\n"
     ]
    },
    {
     "name": "stdout",
     "output_type": "stream",
     "text": [
      "Requirement already satisfied: razdel in c:\\users\\пользователь\\appdata\\local\\programs\\python\\python39\\lib\\site-packages (0.5.0)\n",
      "Collecting dateparser\n",
      "  Downloading dateparser-1.1.6-py2.py3-none-any.whl (293 kB)\n",
      "     -------------------------------------- 293.3/293.3 KB 2.6 MB/s eta 0:00:00\n",
      "Collecting sentence_transformers\n",
      "  Downloading sentence-transformers-2.2.2.tar.gz (85 kB)\n",
      "     ---------------------------------------- 86.0/86.0 KB ? eta 0:00:00\n",
      "  Preparing metadata (setup.py): started\n",
      "  Preparing metadata (setup.py): finished with status 'done'\n",
      "Collecting tzlocal\n",
      "  Downloading tzlocal-4.2-py3-none-any.whl (19 kB)\n",
      "Requirement already satisfied: pytz in c:\\users\\пользователь\\appdata\\local\\programs\\python\\python39\\lib\\site-packages (from dateparser) (2022.1)\n",
      "Requirement already satisfied: python-dateutil in c:\\users\\пользователь\\appdata\\local\\programs\\python\\python39\\lib\\site-packages (from dateparser) (2.8.2)\n",
      "Requirement already satisfied: regex!=2019.02.19,!=2021.8.27 in c:\\users\\пользователь\\appdata\\local\\programs\\python\\python39\\lib\\site-packages (from dateparser) (2022.6.2)\n",
      "Collecting transformers<5.0.0,>=4.6.0\n",
      "  Downloading transformers-4.25.1-py3-none-any.whl (5.8 MB)\n",
      "     ---------------------------------------- 5.8/5.8 MB 14.3 MB/s eta 0:00:00\n",
      "Requirement already satisfied: tqdm in c:\\users\\пользователь\\appdata\\local\\programs\\python\\python39\\lib\\site-packages (from sentence_transformers) (4.64.1)\n",
      "Collecting torch>=1.6.0\n",
      "  Downloading torch-1.13.1-cp39-cp39-win_amd64.whl (162.5 MB)\n",
      "     -------------------------------------- 162.5/162.5 MB 3.5 MB/s eta 0:00:00\n",
      "Collecting torchvision\n",
      "  Downloading torchvision-0.14.1-cp39-cp39-win_amd64.whl (1.1 MB)\n",
      "     ---------------------------------------- 1.1/1.1 MB 34.9 MB/s eta 0:00:00\n",
      "Requirement already satisfied: numpy in c:\\users\\пользователь\\appdata\\local\\programs\\python\\python39\\lib\\site-packages (from sentence_transformers) (1.22.4)\n",
      "Requirement already satisfied: scikit-learn in c:\\users\\пользователь\\appdata\\local\\programs\\python\\python39\\lib\\site-packages (from sentence_transformers) (1.1.3)\n",
      "Requirement already satisfied: scipy in c:\\users\\пользователь\\appdata\\local\\programs\\python\\python39\\lib\\site-packages (from sentence_transformers) (1.9.3)\n",
      "Requirement already satisfied: nltk in c:\\users\\пользователь\\appdata\\local\\programs\\python\\python39\\lib\\site-packages (from sentence_transformers) (3.7)\n",
      "Collecting sentencepiece\n",
      "  Downloading sentencepiece-0.1.97-cp39-cp39-win_amd64.whl (1.1 MB)\n",
      "     ---------------------------------------- 1.1/1.1 MB 17.8 MB/s eta 0:00:00\n",
      "Collecting huggingface-hub>=0.4.0\n",
      "  Downloading huggingface_hub-0.11.1-py3-none-any.whl (182 kB)\n",
      "     -------------------------------------- 182.4/182.4 KB 5.6 MB/s eta 0:00:00\n",
      "Collecting pyyaml>=5.1\n",
      "  Downloading PyYAML-6.0-cp39-cp39-win_amd64.whl (151 kB)\n",
      "     -------------------------------------- 151.6/151.6 KB 8.8 MB/s eta 0:00:00\n",
      "Requirement already satisfied: requests in c:\\users\\пользователь\\appdata\\local\\programs\\python\\python39\\lib\\site-packages (from huggingface-hub>=0.4.0->sentence_transformers) (2.27.1)\n",
      "Requirement already satisfied: packaging>=20.9 in c:\\users\\пользователь\\appdata\\local\\programs\\python\\python39\\lib\\site-packages (from huggingface-hub>=0.4.0->sentence_transformers) (21.3)\n",
      "Requirement already satisfied: typing-extensions>=3.7.4.3 in c:\\users\\пользователь\\appdata\\local\\programs\\python\\python39\\lib\\site-packages (from huggingface-hub>=0.4.0->sentence_transformers) (4.4.0)\n",
      "Collecting filelock\n",
      "  Downloading filelock-3.9.0-py3-none-any.whl (9.7 kB)\n",
      "Collecting tokenizers!=0.11.3,<0.14,>=0.11.1\n",
      "  Downloading tokenizers-0.13.2-cp39-cp39-win_amd64.whl (3.3 MB)\n",
      "     ---------------------------------------- 3.3/3.3 MB 23.3 MB/s eta 0:00:00\n",
      "Requirement already satisfied: colorama in c:\\users\\пользователь\\appdata\\local\\programs\\python\\python39\\lib\\site-packages (from tqdm->sentence_transformers) (0.4.5)\n",
      "Requirement already satisfied: click in c:\\users\\пользователь\\appdata\\local\\programs\\python\\python39\\lib\\site-packages (from nltk->sentence_transformers) (8.1.3)\n",
      "Requirement already satisfied: joblib in c:\\users\\пользователь\\appdata\\local\\programs\\python\\python39\\lib\\site-packages (from nltk->sentence_transformers) (1.2.0)\n",
      "Requirement already satisfied: six>=1.5 in c:\\users\\пользователь\\appdata\\local\\programs\\python\\python39\\lib\\site-packages (from python-dateutil->dateparser) (1.16.0)\n",
      "Requirement already satisfied: threadpoolctl>=2.0.0 in c:\\users\\пользователь\\appdata\\local\\programs\\python\\python39\\lib\\site-packages (from scikit-learn->sentence_transformers) (3.1.0)\n",
      "Requirement already satisfied: pillow!=8.3.*,>=5.3.0 in c:\\users\\пользователь\\appdata\\local\\programs\\python\\python39\\lib\\site-packages (from torchvision->sentence_transformers) (9.1.1)\n",
      "Collecting pytz-deprecation-shim\n",
      "  Downloading pytz_deprecation_shim-0.1.0.post0-py2.py3-none-any.whl (15 kB)\n",
      "Collecting tzdata\n",
      "  Downloading tzdata-2022.7-py2.py3-none-any.whl (340 kB)\n",
      "     ------------------------------------- 340.1/340.1 KB 22.0 MB/s eta 0:00:00\n",
      "Requirement already satisfied: pyparsing!=3.0.5,>=2.0.2 in c:\\users\\пользователь\\appdata\\local\\programs\\python\\python39\\lib\\site-packages (from packaging>=20.9->huggingface-hub>=0.4.0->sentence_transformers) (3.0.9)\n",
      "Requirement already satisfied: idna<4,>=2.5 in c:\\users\\пользователь\\appdata\\local\\programs\\python\\python39\\lib\\site-packages (from requests->huggingface-hub>=0.4.0->sentence_transformers) (3.3)\n",
      "Requirement already satisfied: certifi>=2017.4.17 in c:\\users\\пользователь\\appdata\\local\\programs\\python\\python39\\lib\\site-packages (from requests->huggingface-hub>=0.4.0->sentence_transformers) (2022.5.18.1)\n",
      "Requirement already satisfied: charset-normalizer~=2.0.0 in c:\\users\\пользователь\\appdata\\local\\programs\\python\\python39\\lib\\site-packages (from requests->huggingface-hub>=0.4.0->sentence_transformers) (2.0.12)\n",
      "Requirement already satisfied: urllib3<1.27,>=1.21.1 in c:\\users\\пользователь\\appdata\\local\\programs\\python\\python39\\lib\\site-packages (from requests->huggingface-hub>=0.4.0->sentence_transformers) (1.26.9)\n",
      "Using legacy 'setup.py install' for sentence_transformers, since package 'wheel' is not installed.\n",
      "Installing collected packages: tokenizers, sentencepiece, tzdata, torch, pyyaml, filelock, torchvision, pytz-deprecation-shim, huggingface-hub, tzlocal, transformers, sentence_transformers, dateparser\n",
      "  Running setup.py install for sentence_transformers: started\n",
      "  Running setup.py install for sentence_transformers: finished with status 'done'\n",
      "Successfully installed dateparser-1.1.6 filelock-3.9.0 huggingface-hub-0.11.1 pytz-deprecation-shim-0.1.0.post0 pyyaml-6.0 sentence_transformers-2.2.2 sentencepiece-0.1.97 tokenizers-0.13.2 torch-1.13.1 torchvision-0.14.1 transformers-4.25.1 tzdata-2022.7 tzlocal-4.2\n"
     ]
    },
    {
     "name": "stderr",
     "output_type": "stream",
     "text": [
      "WARNING: You are using pip version 22.0.4; however, version 22.3.1 is available.\n",
      "You should consider upgrading via the 'C:\\Users\\пользователь\\AppData\\Local\\Programs\\Python\\Python39\\python.exe -m pip install --upgrade pip' command.\n"
     ]
    }
   ],
   "source": [
    "!pip install lingtrain-aligner==0.8.7\n",
    "!pip install razdel dateparser sentence_transformers"
   ]
  },
  {
   "cell_type": "code",
   "execution_count": 5,
   "id": "ce0d3459",
   "metadata": {
    "scrolled": true
   },
   "outputs": [
    {
     "name": "stdout",
     "output_type": "stream",
     "text": [
      "Collecting more-itertools\n",
      "  Downloading more_itertools-9.0.0-py3-none-any.whl (52 kB)\n",
      "     ---------------------------------------- 52.8/52.8 KB 1.4 MB/s eta 0:00:00\n",
      "Installing collected packages: more-itertools\n",
      "Successfully installed more-itertools-9.0.0\n"
     ]
    },
    {
     "name": "stderr",
     "output_type": "stream",
     "text": [
      "WARNING: You are using pip version 22.0.4; however, version 22.3.1 is available.\n",
      "You should consider upgrading via the 'C:\\Users\\пользователь\\AppData\\Local\\Programs\\Python\\Python39\\python.exe -m pip install --upgrade pip' command.\n"
     ]
    }
   ],
   "source": [
    "!pip install more-itertools #пришлось доустановить это, так как иначе не работали импорты из следующей ячейки"
   ]
  },
  {
   "cell_type": "markdown",
   "id": "a1272871",
   "metadata": {},
   "source": [
    "импорт необходимых для тренировки штук"
   ]
  },
  {
   "cell_type": "code",
   "execution_count": 2,
   "id": "78a1fec8",
   "metadata": {},
   "outputs": [],
   "source": [
    "import os\n",
    "from lingtrain_aligner import preprocessor, splitter, aligner, resolver, reader, helper, vis_helper"
   ]
  },
  {
   "cell_type": "markdown",
   "id": "ec671585",
   "metadata": {},
   "source": [
    "читаем текст"
   ]
  },
  {
   "cell_type": "code",
   "execution_count": 72,
   "id": "31202e1a",
   "metadata": {},
   "outputs": [],
   "source": [
    "text1_input = \"AF-BOOKS-2011-Meyer-7dae-Chapter1.txt\"\n",
    "text2_input = \"AF-BOOKS-2011-Meyer-7dae-EN-Chapter1.txt\"\n",
    "\n",
    "with open(text1_input, \"r\", encoding=\"utf8\") as input1:\n",
    "    text1 = input1.readlines()\n",
    "\n",
    "with open(text2_input, \"r\", encoding=\"utf8\") as input2:\n",
    "    text2 = input2.readlines()"
   ]
  },
  {
   "cell_type": "markdown",
   "id": "7d198354",
   "metadata": {},
   "source": [
    "задаю путь до БД, где лежат: строки с выделенными абзацами и главами, метаданные, маппинг выровненных строк на их изначальный состав и местоположение\n",
    "\n",
    "параметры языка lang_from и lang_to. Они влияют на правила разбиения строк на предложения\n",
    "\n",
    "название модели, которую использую"
   ]
  },
  {
   "cell_type": "code",
   "execution_count": 73,
   "id": "9731f6f9",
   "metadata": {},
   "outputs": [],
   "source": [
    "db_path = \"db/book.db\"\n",
    "\n",
    "lang_from = \"afr\" \n",
    "lang_to = \"en\"\n",
    "\n",
    "#использую модель distiluse-base-multilingual-cased-v2\n",
    "\n",
    "model_name = \"sentence_transformer_multilingual\""
   ]
  },
  {
   "cell_type": "markdown",
   "id": "965f15ca",
   "metadata": {},
   "source": [
    "cохраняю структуру абзацев и разобиваю на строки (готовые модули, очень удобно)"
   ]
  },
  {
   "cell_type": "code",
   "execution_count": 74,
   "id": "82980944",
   "metadata": {},
   "outputs": [],
   "source": [
    "text1_prepared = preprocessor.mark_paragraphs(text1)\n",
    "text2_prepared = preprocessor.mark_paragraphs(text2)\n",
    "\n",
    "splitted_from = splitter.split_by_sentences_wrapper(text1_prepared , lang_from)\n",
    "splitted_to = splitter.split_by_sentences_wrapper(text2_prepared , lang_to)"
   ]
  },
  {
   "cell_type": "markdown",
   "id": "c787d497",
   "metadata": {},
   "source": [
    "Создаю БД"
   ]
  },
  {
   "cell_type": "code",
   "execution_count": 75,
   "id": "458a4921",
   "metadata": {},
   "outputs": [],
   "source": [
    "if os.path.isfile(db_path):\n",
    "    os.unlink(db_path)\n",
    "\n",
    "aligner.fill_db(db_path, lang_from, lang_to, splitted_from, splitted_to)"
   ]
  },
  {
   "cell_type": "markdown",
   "id": "9165be88",
   "metadata": {},
   "source": [
    "Кака я поняла, выравнивание происходит кусками (batch) (отсюда следующий поинт: надо бы автоматизировать аккуратно, чтобы целиком за раз книгу или по мере обновления; как-то на ровные кусочки делить текст автоматически)\n",
    "\n",
    "Размер находится в batch_size, вокруг каждого куска берется дополнительное количество строк размера window. Это нужно для того, чтобы точно соотнести строки необходимые. Модель использует векторные представления для лучшего подбора."
   ]
  },
  {
   "cell_type": "code",
   "execution_count": 76,
   "id": "bbd83683",
   "metadata": {
    "scrolled": true
   },
   "outputs": [
    {
     "name": "stdout",
     "output_type": "stream",
     "text": [
      "batch: 0\n"
     ]
    },
    {
     "data": {
      "application/vnd.jupyter.widget-view+json": {
       "model_id": "e5644e4937d54c78ba43f8dd9a5369b6",
       "version_major": 2,
       "version_minor": 0
      },
      "text/plain": [
       "Batches:   0%|          | 0/3 [00:00<?, ?it/s]"
      ]
     },
     "metadata": {},
     "output_type": "display_data"
    },
    {
     "data": {
      "application/vnd.jupyter.widget-view+json": {
       "model_id": "720285b856734726949e71b4b04118b4",
       "version_major": 2,
       "version_minor": 0
      },
      "text/plain": [
       "Batches:   0%|          | 0/3 [00:00<?, ?it/s]"
      ]
     },
     "metadata": {},
     "output_type": "display_data"
    },
    {
     "name": "stderr",
     "output_type": "stream",
     "text": [
      "WARNING:root:can not fetch index db\n"
     ]
    }
   ],
   "source": [
    "batch_ids = []\n",
    "\n",
    "aligner.align_db(db_path, \\\n",
    "                model_name, \\\n",
    "                batch_size=200, \\\n",
    "                window=30, \\\n",
    "                batch_ids=batch_ids, \\\n",
    "                save_pic=False,\n",
    "                embed_batch_size=50, \\\n",
    "                normalize_embeddings=True, \\\n",
    "                show_progress_bar=True\n",
    "                )"
   ]
  },
  {
   "cell_type": "markdown",
   "id": "ad1b9a84",
   "metadata": {},
   "source": [
    "отклонения, которые получились"
   ]
  },
  {
   "cell_type": "code",
   "execution_count": 77,
   "id": "68016ff4",
   "metadata": {
    "scrolled": false
   },
   "outputs": [
    {
     "data": {
      "image/png": "[encoded data removed]",
      "text/plain": [
       "<Figure size 800x800 with 1 Axes>"
      ]
     },
     "metadata": {},
     "output_type": "display_data"
    }
   ],
   "source": [
    "vis_helper.visualize_alignment_by_db(db_path, output_path=\"alignment_vis.png\", lang_name_from=lang_from, lang_name_to=lang_to, batch_size=400, size=(800,800), plt_show=True)"
   ]
  },
  {
   "cell_type": "markdown",
   "id": "842d6bac",
   "metadata": {},
   "source": [
    "Из-за чего это возникает? Количество предложений в текстах различается. \n",
    "\n",
    "Для исправления есть модуль resolver. Необходимо в определённых местах склеить вместе несколько предложений."
   ]
  },
  {
   "cell_type": "code",
   "execution_count": 80,
   "id": "3887de6e",
   "metadata": {
    "scrolled": false
   },
   "outputs": [
    {
     "name": "stdout",
     "output_type": "stream",
     "text": [
      "get_all_conflicts, handle_start: False handle_finish: False batch_id -1\n",
      "conflicts to solve: 14\n",
      "total conflicts: 15\n",
      "('3:3', 7)\n",
      "('2:3', 3)\n",
      "('7:1', 1)\n",
      "('3:2', 1)\n",
      "('5:6', 1)\n",
      "('4:4', 1)\n",
      "('10:11', 1)\n"
     ]
    },
    {
     "data": {
      "text/plain": [
       "defaultdict(int, {'10:11': 1})"
      ]
     },
     "execution_count": 80,
     "metadata": {},
     "output_type": "execute_result"
    }
   ],
   "source": [
    "conflicts_to_solve, rest = resolver.get_all_conflicts(db_path, min_chain_length=2, max_conflicts_len=7, batch_id=-1)\n",
    "\n",
    "resolver.get_statistics(conflicts_to_solve)\n",
    "resolver.get_statistics(rest)"
   ]
  },
  {
   "cell_type": "code",
   "execution_count": 81,
   "id": "17658f33",
   "metadata": {
    "scrolled": true
   },
   "outputs": [
    {
     "name": "stdout",
     "output_type": "stream",
     "text": [
      "26 As hy net een dop kan maak voor hy haar ontmoet.\n",
      "27 Om te keer dat sy senuwees handuit ruk.\n",
      "28 Hy sal sy hand eers aan sy nuwe broek moet afvee, want hy kan nie vir Lize Beekman groet as dit so gesweet is nie.\n",
      "\n",
      "\n",
      "29 If he could just have one drink before he met her.\n",
      "30 To keep his nerves from getting out of control.\n",
      "31 He would have to dry his hand on his new trousers first, he couldn’t greet Lize Beekman with his palm all sweaty.\n",
      "-----------------------------------------------\n"
     ]
    },
    {
     "data": {
      "text/plain": [
       "({26: 'As hy net een dop kan maak voor hy haar ontmoet.',\n",
       "  27: 'Om te keer dat sy senuwees handuit ruk.',\n",
       "  28: 'Hy sal sy hand eers aan sy nuwe broek moet afvee, want hy kan nie vir Lize Beekman groet as dit so gesweet is nie.'},\n",
       " {29: 'If he could just have one drink before he met her.',\n",
       "  30: 'To keep his nerves from getting out of control.',\n",
       "  31: 'He would have to dry his hand on his new trousers first, he couldn’t greet Lize Beekman with his palm all sweaty.'})"
      ]
     },
     "execution_count": 81,
     "metadata": {},
     "output_type": "execute_result"
    }
   ],
   "source": [
    "resolver.show_conflict(db_path, conflicts_to_solve[2]) \n",
    "\n",
    "#пример конфликта 3 на 3, в чём здесь проблема? Надо бы разобраться"
   ]
  },
  {
   "cell_type": "markdown",
   "id": "855c71f3",
   "metadata": {},
   "source": [
    "Как работает resolver: смотрит на все-все варианты, считает коэффициент похожести, берёт лучший из всех.\n",
    "\n",
    "Как выравнивается: ищет минимальную цепочку предложений (2) и максимальную (7) (в conflicts to solve находятся выделенные мной конфликты (от 2 до 7 предложений). В целом, они не очень длинные и их не должно быть сложно решить программе, если же конфликт большой, то программа будет его разбивать на несколько и поэтому, нет смысла задавать прям большой объём максимальной цепочки)\n",
    "\n",
    "В 3 шага должно всё точно получится (хотя надо бы посмотреть на большие объёмы текста, но, мне кажется, от этого ничего не изменится. У нас не возникнет конфликта на 21 - 25 предложений, это что-то странное, поэтому 3 проходов должно хватить)"
   ]
  },
  {
   "cell_type": "code",
   "execution_count": 82,
   "id": "5daef1a3",
   "metadata": {
    "scrolled": false
   },
   "outputs": [
    {
     "name": "stdout",
     "output_type": "stream",
     "text": [
      "get_all_conflicts, handle_start: False handle_finish: False batch_id -1\n",
      "conflicts to solve: 13\n",
      "total conflicts: 15\n"
     ]
    },
    {
     "name": "stderr",
     "output_type": "stream",
     "text": [
      "100%|██████████████████████████████████████████████████████████████████████████████████| 13/13 [00:02<00:00,  5.31it/s]\n"
     ]
    },
    {
     "data": {
      "image/png": "[encoded data removed]",
      "text/plain": [
       "<Figure size 800x800 with 1 Axes>"
      ]
     },
     "metadata": {},
     "output_type": "display_data"
    },
    {
     "name": "stdout",
     "output_type": "stream",
     "text": [
      "get_all_conflicts, handle_start: False handle_finish: False batch_id -1\n",
      "conflicts to solve: 2\n",
      "total conflicts: 2\n"
     ]
    },
    {
     "name": "stderr",
     "output_type": "stream",
     "text": [
      "100%|████████████████████████████████████████████████████████████████████████████████████| 2/2 [00:00<00:00,  2.75it/s]\n"
     ]
    },
    {
     "data": {
      "image/png": "[encoded data removed]",
      "text/plain": [
       "<Figure size 800x800 with 1 Axes>"
      ]
     },
     "metadata": {},
     "output_type": "display_data"
    }
   ],
   "source": [
    "steps = 3\n",
    "\n",
    "for i in range(steps):\n",
    "    conflicts, rest = resolver.get_all_conflicts(db_path,\n",
    "                        min_chain_length=2+i,\n",
    "                        max_conflicts_len=6*(i+1),\n",
    "                        batch_id=-1)\n",
    "\n",
    "    resolver.resolve_all_conflicts(db_path, conflicts, model_name, show_logs=False)\n",
    "    \n",
    "    vis_helper.visualize_alignment_by_db(db_path, output_path=\"test.png\", lang_name_from=lang_from, lang_name_to=lang_to, batch_size=400, size=(800,800), plt_show=True)\n",
    "\n",
    "    if len(rest) == 0:\n",
    "        break"
   ]
  },
  {
   "cell_type": "markdown",
   "id": "95053787",
   "metadata": {},
   "source": [
    "ещё раз посмотрим на конфликты (чудно, их нет)"
   ]
  },
  {
   "cell_type": "code",
   "execution_count": 83,
   "id": "04cd0851",
   "metadata": {
    "scrolled": false
   },
   "outputs": [
    {
     "name": "stdout",
     "output_type": "stream",
     "text": [
      "get_all_conflicts, handle_start: False handle_finish: False batch_id -1\n",
      "conflicts to solve: 0\n",
      "total conflicts: 0\n"
     ]
    },
    {
     "data": {
      "text/plain": [
       "defaultdict(int, {})"
      ]
     },
     "execution_count": 83,
     "metadata": {},
     "output_type": "execute_result"
    }
   ],
   "source": [
    "conflicts_to_solve, rest = resolver.get_all_conflicts(db_path, min_chain_length=2, max_conflicts_len=6, batch_id=-1)\n",
    "\n",
    "resolver.get_statistics(conflicts_to_solve)\n",
    "resolver.get_statistics(rest)"
   ]
  },
  {
   "cell_type": "markdown",
   "id": "fc1f6a6c",
   "metadata": {},
   "source": [
    "Тут собирается сам текст с выделенными предложениями, опять-таки есть встроенный модуль. Я пока не стала в это углубляться, но, думаю, при работе позже с интерфейсом я попробую поиграться с этим (если остановлюсь на lingtrain)"
   ]
  },
  {
   "cell_type": "code",
   "execution_count": 88,
   "id": "1134a99e",
   "metadata": {},
   "outputs": [],
   "source": [
    "output_path = \"result/chapter_1.html\"\n",
    "paragraphs, delimeters, metas, sent_counter = reader.get_paragraphs(\n",
    "    db_path, direction=\"to\"\n",
    ")"
   ]
  },
  {
   "cell_type": "code",
   "execution_count": 89,
   "id": "85853fa1",
   "metadata": {},
   "outputs": [],
   "source": [
    "my_style = [\n",
    "    '{\"background\": \"#A2E4B8\", \"color\": \"black\", \"border-bottom\": \"0px solid red\"}',\n",
    "    '{\"background\": \"#FFC1CC\", \"color\": \"black\"}',\n",
    "    '{\"background\": \"#9BD3DD\", \"color\": \"black\"}',\n",
    "    '{\"background\": \"#FFFCC9\", \"color\": \"black\"}'\n",
    "    ]\n",
    "\n",
    "lang_ordered = [\"from\", \"to\"]"
   ]
  },
  {
   "cell_type": "code",
   "execution_count": 90,
   "id": "434578ae",
   "metadata": {},
   "outputs": [],
   "source": [
    "reader.create_book(\n",
    "    lang_ordered=lang_ordered,\n",
    "    paragraphs=paragraphs,\n",
    "    delimeters=delimeters,\n",
    "    metas=metas,\n",
    "    sent_counter=sent_counter,\n",
    "    output_path=output_path,\n",
    "    template=\"pastel_fill\",\n",
    "    styles=[],\n",
    ")"
   ]
  },
  {
   "cell_type": "markdown",
   "id": "3bac97e7",
   "metadata": {},
   "source": [
    "Что в планах на следующую неделю:\n",
    "\n",
    "-посмотреть на Bleualign и попробовать там проделать тоже самое, сравнить по времени (качество надо бы тоже оценить, пока думаю над этим)\n",
    "\n",
    "-есть ещё вариант hunalign (но он вроде как немного устаревший, в любом случае, почитаю про это)\n",
    "\n",
    "Что в планах на неделю 30.01 - 05.02:\n",
    "\n",
    "-посмотреть на пословное выравнивание simalign (вопросы аналогично Bleualign)\n",
    "\n",
    "Планы на февраль:\n",
    "\n",
    "-определиться окончательно с библиотекой\n",
    "\n",
    "-подумать над интерфейсом\n",
    "\n",
    "-попробовать оптимизировать\n",
    "\n",
    "Ощущения: это не так сложно, как я себе представляла; кажется, что это не прям тянет на курсовую, скорее на обычный проект по программированию... хотя, если задуматься больше над интерфейсом, но тогда мало \"компьютерно-лингвистической\" части. Возможно, у Вас есть какие-то мысли по этому поводу?"
   ]
  },
  {
   "cell_type": "code",
   "execution_count": null,
   "id": "4cb86c7e",
   "metadata": {},
   "outputs": [],
   "source": []
  }
 ],
 "metadata": {
  "kernelspec": {
   "display_name": "Python 3 (ipykernel)",
   "language": "python",
   "name": "python3"
  },
  "language_info": {
   "codemirror_mode": {
    "name": "ipython",
    "version": 3
   },
   "file_extension": ".py",
   "mimetype": "text/x-python",
   "name": "python",
   "nbconvert_exporter": "python",
   "pygments_lexer": "ipython3",
   "version": "3.9.13"
  }
 },
 "nbformat": 4,
 "nbformat_minor": 5
}
