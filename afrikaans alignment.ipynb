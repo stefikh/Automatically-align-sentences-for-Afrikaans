{
 "cells": [
  {
   "cell_type": "markdown",
   "id": "81b50676",
   "metadata": {},
   "source": [
    "*Над чем можно поработать:*\n",
    "\n",
    "-автоматически подгонять тексты под формат (метаинформацию выделять метками)\n",
    "\n",
    "-из-за формата кавычек может пойти что-то не так (привести к единому стилю оригинал и перевод)\n",
    "\n",
    "-странно склеиваится 10 абзац на африкаанс"
   ]
  },
  {
   "cell_type": "markdown",
   "id": "409d6e7e",
   "metadata": {},
   "source": [
    "*Шаги на пробной одной главе:*\n",
    "\n",
    "установка библиотеки"
   ]
  },
  {
   "cell_type": "code",
   "execution_count": 91,
   "id": "c0ae3666",
   "metadata": {
    "scrolled": false
   },
   "outputs": [],
   "source": [
    "# !pip install lingtrain-aligner==0.8.7\n",
    "# !pip install razdel dateparser sentence_transformers"
   ]
  },
  {
   "cell_type": "code",
   "execution_count": 92,
   "id": "ce0d3459",
   "metadata": {
    "scrolled": true
   },
   "outputs": [],
   "source": [
    "# !pip install more-itertools \n",
    "\n",
    "#пришлось доустановить это, так как иначе не работали импорты из следующей ячейки"
   ]
  },
  {
   "cell_type": "markdown",
   "id": "a1272871",
   "metadata": {},
   "source": [
    "импорт необходимых для тренировки штук"
   ]
  },
  {
   "cell_type": "code",
   "execution_count": 2,
   "id": "78a1fec8",
   "metadata": {},
   "outputs": [],
   "source": [
    "import os\n",
    "from lingtrain_aligner import preprocessor, splitter, aligner, resolver, reader, helper, vis_helper"
   ]
  },
  {
   "cell_type": "markdown",
   "id": "ec671585",
   "metadata": {},
   "source": [
    "читаем текст"
   ]
  },
  {
   "cell_type": "code",
   "execution_count": 72,
   "id": "31202e1a",
   "metadata": {},
   "outputs": [],
   "source": [
    "text1_input = \"AF-BOOKS-2011-Meyer-7dae-Chapter1.txt\"\n",
    "text2_input = \"AF-BOOKS-2011-Meyer-7dae-EN-Chapter1.txt\"\n",
    "\n",
    "with open(text1_input, \"r\", encoding=\"utf8\") as input1:\n",
    "    text1 = input1.readlines()\n",
    "\n",
    "with open(text2_input, \"r\", encoding=\"utf8\") as input2:\n",
    "    text2 = input2.readlines()"
   ]
  },
  {
   "cell_type": "markdown",
   "id": "7d198354",
   "metadata": {},
   "source": [
    "задаю путь до БД, где лежат: строки с выделенными абзацами и главами, метаданные, маппинг выровненных строк на их изначальный состав и местоположение\n",
    "\n",
    "параметры языка lang_from и lang_to. Они влияют на правила разбиения строк на предложения\n",
    "\n",
    "название модели, которую использую"
   ]
  },
  {
   "cell_type": "code",
   "execution_count": 73,
   "id": "9731f6f9",
   "metadata": {},
   "outputs": [],
   "source": [
    "db_path = \"db/book.db\"\n",
    "\n",
    "lang_from = \"afr\" \n",
    "lang_to = \"en\"\n",
    "\n",
    "#использую модель distiluse-base-multilingual-cased-v2\n",
    "\n",
    "model_name = \"sentence_transformer_multilingual\""
   ]
  },
  {
   "cell_type": "markdown",
   "id": "965f15ca",
   "metadata": {},
   "source": [
    "cохраняю структуру абзацев и разобиваю на строки (готовые модули, очень удобно)"
   ]
  },
  {
   "cell_type": "code",
   "execution_count": 74,
   "id": "82980944",
   "metadata": {},
   "outputs": [],
   "source": [
    "text1_prepared = preprocessor.mark_paragraphs(text1)\n",
    "text2_prepared = preprocessor.mark_paragraphs(text2)\n",
    "\n",
    "splitted_from = splitter.split_by_sentences_wrapper(text1_prepared , lang_from)\n",
    "splitted_to = splitter.split_by_sentences_wrapper(text2_prepared , lang_to)"
   ]
  },
  {
   "cell_type": "markdown",
   "id": "c787d497",
   "metadata": {},
   "source": [
    "Создаю БД"
   ]
  },
  {
   "cell_type": "code",
   "execution_count": 75,
   "id": "458a4921",
   "metadata": {},
   "outputs": [],
   "source": [
    "if os.path.isfile(db_path):\n",
    "    os.unlink(db_path)\n",
    "\n",
    "aligner.fill_db(db_path, lang_from, lang_to, splitted_from, splitted_to)"
   ]
  },
  {
   "cell_type": "markdown",
   "id": "9165be88",
   "metadata": {},
   "source": [
    "Кака я поняла, выравнивание происходит кусками (batch) (отсюда следующий поинт: надо бы автоматизировать аккуратно, чтобы целиком за раз книгу или по мере обновления; как-то на ровные кусочки делить текст автоматически)\n",
    "\n",
    "Размер находится в batch_size, вокруг каждого куска берется дополнительное количество строк размера window. Это нужно для того, чтобы точно соотнести строки необходимые. Модель использует векторные представления для лучшего подбора."
   ]
  },
  {
   "cell_type": "code",
   "execution_count": 76,
   "id": "bbd83683",
   "metadata": {
    "scrolled": true
   },
   "outputs": [
    {
     "name": "stdout",
     "output_type": "stream",
     "text": [
      "batch: 0\n"
     ]
    },
    {
     "data": {
      "application/vnd.jupyter.widget-view+json": {
       "model_id": "e5644e4937d54c78ba43f8dd9a5369b6",
       "version_major": 2,
       "version_minor": 0
      },
      "text/plain": [
       "Batches:   0%|          | 0/3 [00:00<?, ?it/s]"
      ]
     },
     "metadata": {},
     "output_type": "display_data"
    },
    {
     "data": {
      "application/vnd.jupyter.widget-view+json": {
       "model_id": "720285b856734726949e71b4b04118b4",
       "version_major": 2,
       "version_minor": 0
      },
      "text/plain": [
       "Batches:   0%|          | 0/3 [00:00<?, ?it/s]"
      ]
     },
     "metadata": {},
     "output_type": "display_data"
    },
    {
     "name": "stderr",
     "output_type": "stream",
     "text": [
      "WARNING:root:can not fetch index db\n"
     ]
    }
   ],
   "source": [
    "batch_ids = []\n",
    "\n",
    "aligner.align_db(db_path, \\\n",
    "                model_name, \\\n",
    "                batch_size=200, \\\n",
    "                window=30, \\\n",
    "                batch_ids=batch_ids, \\\n",
    "                save_pic=False,\n",
    "                embed_batch_size=50, \\\n",
    "                normalize_embeddings=True, \\\n",
    "                show_progress_bar=True\n",
    "                )"
   ]
  },
  {
   "cell_type": "markdown",
   "id": "ad1b9a84",
   "metadata": {},
   "source": [
    "отклонения, которые получились"
   ]
  },
  {
   "cell_type": "code",
   "execution_count": 77,
   "id": "68016ff4",
   "metadata": {
    "scrolled": false
   },
   "outputs": [
    {
     "data": {
      "image/png": "[encoded data removed]",
      "text/plain": [
       "<Figure size 800x800 with 1 Axes>"
      ]
     },
     "metadata": {},
     "output_type": "display_data"
    }
   ],
   "source": [
    "vis_helper.visualize_alignment_by_db(db_path, output_path=\"alignment_vis.png\", lang_name_from=lang_from, lang_name_to=lang_to, batch_size=400, size=(800,800), plt_show=True)"
   ]
  },
  {
   "cell_type": "markdown",
   "id": "f669288a",
   "metadata": {},
   "source": [
    "Из-за чего это возникает? Количество предложений в текстах различается. \n",
    "\n",
    "Для исправления есть модуль resolver. Необходимо в определённых местах склеить вместе несколько предложений."
   ]
  },
  {
   "cell_type": "code",
   "execution_count": 80,
   "id": "3887de6e",
   "metadata": {
    "scrolled": false
   },
   "outputs": [
    {
     "name": "stdout",
     "output_type": "stream",
     "text": [
      "get_all_conflicts, handle_start: False handle_finish: False batch_id -1\n",
      "conflicts to solve: 14\n",
      "total conflicts: 15\n",
      "('3:3', 7)\n",
      "('2:3', 3)\n",
      "('7:1', 1)\n",
      "('3:2', 1)\n",
      "('5:6', 1)\n",
      "('4:4', 1)\n",
      "('10:11', 1)\n"
     ]
    },
    {
     "data": {
      "text/plain": [
       "defaultdict(int, {'10:11': 1})"
      ]
     },
     "execution_count": 80,
     "metadata": {},
     "output_type": "execute_result"
    }
   ],
   "source": [
    "conflicts_to_solve, rest = resolver.get_all_conflicts(db_path, min_chain_length=2, max_conflicts_len=7, batch_id=-1)\n",
    "\n",
    "resolver.get_statistics(conflicts_to_solve)\n",
    "resolver.get_statistics(rest)"
   ]
  },
  {
   "cell_type": "code",
   "execution_count": 81,
   "id": "ff75c0bf",
   "metadata": {
    "scrolled": true
   },
   "outputs": [
    {
     "name": "stdout",
     "output_type": "stream",
     "text": [
      "26 As hy net een dop kan maak voor hy haar ontmoet.\n",
      "27 Om te keer dat sy senuwees handuit ruk.\n",
      "28 Hy sal sy hand eers aan sy nuwe broek moet afvee, want hy kan nie vir Lize Beekman groet as dit so gesweet is nie.\n",
      "\n",
      "\n",
      "29 If he could just have one drink before he met her.\n",
      "30 To keep his nerves from getting out of control.\n",
      "31 He would have to dry his hand on his new trousers first, he couldn’t greet Lize Beekman with his palm all sweaty.\n",
      "-----------------------------------------------\n"
     ]
    },
    {
     "data": {
      "text/plain": [
       "({26: 'As hy net een dop kan maak voor hy haar ontmoet.',\n",
       "  27: 'Om te keer dat sy senuwees handuit ruk.',\n",
       "  28: 'Hy sal sy hand eers aan sy nuwe broek moet afvee, want hy kan nie vir Lize Beekman groet as dit so gesweet is nie.'},\n",
       " {29: 'If he could just have one drink before he met her.',\n",
       "  30: 'To keep his nerves from getting out of control.',\n",
       "  31: 'He would have to dry his hand on his new trousers first, he couldn’t greet Lize Beekman with his palm all sweaty.'})"
      ]
     },
     "execution_count": 81,
     "metadata": {},
     "output_type": "execute_result"
    }
   ],
   "source": [
    "resolver.show_conflict(db_path, conflicts_to_solve[2]) \n",
    "\n",
    "#пример конфликта 3 на 3, в чём здесь проблема? Надо бы разобраться"
   ]
  },
  {
   "cell_type": "markdown",
   "id": "3bc61197",
   "metadata": {},
   "source": [
    "Как работает resolver: смотрит на все-все варианты, считает коэффициент похожести, берёт лучший из всех.\n",
    "\n",
    "Как выравнивается: ищет минимальную цепочку предложений (2) и максимальную (7) (в conflicts to solve находятся выделенные мной конфликты (от 2 до 7 предложений). В целом, они не очень длинные и их не должно быть сложно решить программе, если же конфликт большой, то программа будет его разбивать на несколько и поэтому, нет смысла задавать прям большой объём максимальной цепочки)\n",
    "\n",
    "В 3 шага должно всё точно получится (хотя надо бы посмотреть на большие объёмы текста, но, мне кажется, от этого ничего не изменится. У нас не возникнет конфликта на 21 - 25 предложений, это что-то странное, поэтому 3 проходов должно хватить)"
   ]
  },
  {
   "cell_type": "code",
   "execution_count": 82,
   "id": "f8d17a72",
   "metadata": {
    "scrolled": false
   },
   "outputs": [
    {
     "name": "stdout",
     "output_type": "stream",
     "text": [
      "get_all_conflicts, handle_start: False handle_finish: False batch_id -1\n",
      "conflicts to solve: 13\n",
      "total conflicts: 15\n"
     ]
    },
    {
     "name": "stderr",
     "output_type": "stream",
     "text": [
      "100%|██████████████████████████████████████████████████████████████████████████████████| 13/13 [00:02<00:00,  5.31it/s]\n"
     ]
    },
    {
     "data": {
      "image/png": "[encoded data removed]",
      "text/plain": [
       "<Figure size 800x800 with 1 Axes>"
      ]
     },
     "metadata": {},
     "output_type": "display_data"
    },
    {
     "name": "stdout",
     "output_type": "stream",
     "text": [
      "get_all_conflicts, handle_start: False handle_finish: False batch_id -1\n",
      "conflicts to solve: 2\n",
      "total conflicts: 2\n"
     ]
    },
    {
     "name": "stderr",
     "output_type": "stream",
     "text": [
      "100%|████████████████████████████████████████████████████████████████████████████████████| 2/2 [00:00<00:00,  2.75it/s]\n"
     ]
    },
    {
     "data": {
      "image/png": "[encoded data removed]",
      "text/plain": [
       "<Figure size 800x800 with 1 Axes>"
      ]
     },
     "metadata": {},
     "output_type": "display_data"
    }
   ],
   "source": [
    "steps = 3\n",
    "\n",
    "for i in range(steps):\n",
    "    conflicts, rest = resolver.get_all_conflicts(db_path,\n",
    "                        min_chain_length=2+i,\n",
    "                        max_conflicts_len=6*(i+1),\n",
    "                        batch_id=-1)\n",
    "\n",
    "    resolver.resolve_all_conflicts(db_path, conflicts, model_name, show_logs=False)\n",
    "    \n",
    "    vis_helper.visualize_alignment_by_db(db_path, output_path=\"test.png\", lang_name_from=lang_from, lang_name_to=lang_to, batch_size=400, size=(800,800), plt_show=True)\n",
    "\n",
    "    if len(rest) == 0:\n",
    "        break"
   ]
  },
  {
   "cell_type": "markdown",
   "id": "a6b77399",
   "metadata": {},
   "source": [
    "ещё раз посмотрим на конфликты (чудно, их нет)"
   ]
  },
  {
   "cell_type": "code",
   "execution_count": 83,
   "id": "fdd60a08",
   "metadata": {
    "scrolled": false
   },
   "outputs": [
    {
     "name": "stdout",
     "output_type": "stream",
     "text": [
      "get_all_conflicts, handle_start: False handle_finish: False batch_id -1\n",
      "conflicts to solve: 0\n",
      "total conflicts: 0\n"
     ]
    },
    {
     "data": {
      "text/plain": [
       "defaultdict(int, {})"
      ]
     },
     "execution_count": 83,
     "metadata": {},
     "output_type": "execute_result"
    }
   ],
   "source": [
    "conflicts_to_solve, rest = resolver.get_all_conflicts(db_path, min_chain_length=2, max_conflicts_len=6, batch_id=-1)\n",
    "\n",
    "resolver.get_statistics(conflicts_to_solve)\n",
    "resolver.get_statistics(rest)"
   ]
  },
  {
   "cell_type": "markdown",
   "id": "2252cb83",
   "metadata": {},
   "source": [
    "Тут собирается сам текст с выделенными предложениями, опять-таки есть встроенный модуль. Я пока не стала в это углубляться, но, думаю, при работе позже с интерфейсом я попробую поиграться с этим (если остановлюсь на lingtrain)"
   ]
  },
  {
   "cell_type": "code",
   "execution_count": 88,
   "id": "1134a99e",
   "metadata": {},
   "outputs": [],
   "source": [
    "output_path = \"result/chapter_1.html\"\n",
    "paragraphs, delimeters, metas, sent_counter = reader.get_paragraphs(\n",
    "    db_path, direction=\"to\"\n",
    ")"
   ]
  },
  {
   "cell_type": "code",
   "execution_count": 89,
   "id": "85853fa1",
   "metadata": {},
   "outputs": [],
   "source": [
    "my_style = [\n",
    "    '{\"background\": \"#A2E4B8\", \"color\": \"black\", \"border-bottom\": \"0px solid red\"}',\n",
    "    '{\"background\": \"#FFC1CC\", \"color\": \"black\"}',\n",
    "    '{\"background\": \"#9BD3DD\", \"color\": \"black\"}',\n",
    "    '{\"background\": \"#FFFCC9\", \"color\": \"black\"}'\n",
    "    ]\n",
    "\n",
    "lang_ordered = [\"from\", \"to\"]"
   ]
  },
  {
   "cell_type": "code",
   "execution_count": 90,
   "id": "434578ae",
   "metadata": {},
   "outputs": [],
   "source": [
    "reader.create_book(\n",
    "    lang_ordered=lang_ordered,\n",
    "    paragraphs=paragraphs,\n",
    "    delimeters=delimeters,\n",
    "    metas=metas,\n",
    "    sent_counter=sent_counter,\n",
    "    output_path=output_path,\n",
    "    template=\"pastel_fill\",\n",
    "    styles=[],\n",
    ")"
   ]
  },
  {
   "cell_type": "markdown",
   "id": "3e628bdc",
   "metadata": {},
   "source": [
    "Что в планах на следующую неделю:\n",
    "\n",
    "-посмотреть на Bleualign и попробовать там проделать тоже самое, сравнить по времени (качество надо бы тоже оценить, пока думаю над этим)\n",
    "\n",
    "-есть ещё вариант hunalign (но он вроде как немного устаревший, в любом случае, почитаю про это)\n",
    "\n",
    "Что в планах на неделю 30.01 - 05.02:\n",
    "\n",
    "-посмотреть на пословное выравнивание simalign (вопросы аналогично Bleualign)\n",
    "\n",
    "Планы на февраль:\n",
    "\n",
    "-определиться окончательно с библиотекой\n",
    "\n",
    "-подумать над интерфейсом\n",
    "\n",
    "-попробовать оптимизировать\n",
    "\n",
    "Ощущения: это не так сложно, как я себе представляла; кажется, что это не прям тянет на курсовую, скорее на обычный проект по программированию... хотя, если задуматься больше над интерфейсом, но тогда мало \"компьютерно-лингвистической\" части. Возможно, у Вас есть какие-то мысли по этому поводу?"
   ]
  }
 ],
 "metadata": {
  "kernelspec": {
   "display_name": "Python 3 (ipykernel)",
   "language": "python",
   "name": "python3"
  },
  "language_info": {
   "codemirror_mode": {
    "name": "ipython",
    "version": 3
   },
   "file_extension": ".py",
   "mimetype": "text/x-python",
   "name": "python",
   "nbconvert_exporter": "python",
   "pygments_lexer": "ipython3",
   "version": "3.9.13"
  }
 },
 "nbformat": 4,
 "nbformat_minor": 5
}
